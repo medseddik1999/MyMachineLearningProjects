{
 "cells": [
  {
   "cell_type": "markdown",
   "metadata": {
    "id": "D6j0iAIp7t6l"
   },
   "source": [
    "# NLP Project Part 1 \n"
   ]
  },
  {
   "cell_type": "markdown",
   "metadata": {
    "id": "kgVAws-E2n6x"
   },
   "source": [
    "# data préparation "
   ]
  },
  {
   "cell_type": "code",
   "execution_count": null,
   "metadata": {
    "id": "VhOLrgde5HVE"
   },
   "outputs": [],
   "source": [
    "import pandas as pd\n",
    "import numpy as np\n",
    "import spacy\n",
    "import tqdm \n",
    "#instantiating English module\n",
    "nlp = spacy.load('en')"
   ]
  },
  {
   "cell_type": "code",
   "execution_count": null,
   "metadata": {
    "colab": {
     "base_uri": "https://localhost:8080/",
     "height": 206
    },
    "id": "nbz8ZWf47eAg",
    "outputId": "1de0d6a1-0ef9-49fc-f0af-610328143406"
   },
   "outputs": [
    {
     "data": {
      "text/html": [
       "\n",
       "  <div id=\"df-8b3cbaff-6a11-47d8-b7af-a4ab3fa88268\">\n",
       "    <div class=\"colab-df-container\">\n",
       "      <div>\n",
       "<style scoped>\n",
       "    .dataframe tbody tr th:only-of-type {\n",
       "        vertical-align: middle;\n",
       "    }\n",
       "\n",
       "    .dataframe tbody tr th {\n",
       "        vertical-align: top;\n",
       "    }\n",
       "\n",
       "    .dataframe thead th {\n",
       "        text-align: right;\n",
       "    }\n",
       "</style>\n",
       "<table border=\"1\" class=\"dataframe\">\n",
       "  <thead>\n",
       "    <tr style=\"text-align: right;\">\n",
       "      <th></th>\n",
       "      <th>Sentence</th>\n",
       "      <th>Sentiment</th>\n",
       "    </tr>\n",
       "  </thead>\n",
       "  <tbody>\n",
       "    <tr>\n",
       "      <th>0</th>\n",
       "      <td>The GeoSolutions technology will leverage Bene...</td>\n",
       "      <td>positive</td>\n",
       "    </tr>\n",
       "    <tr>\n",
       "      <th>1</th>\n",
       "      <td>$ESI on lows, down $1.50 to $2.50 BK a real po...</td>\n",
       "      <td>negative</td>\n",
       "    </tr>\n",
       "    <tr>\n",
       "      <th>2</th>\n",
       "      <td>For the last quarter of 2010 , Componenta 's n...</td>\n",
       "      <td>positive</td>\n",
       "    </tr>\n",
       "    <tr>\n",
       "      <th>3</th>\n",
       "      <td>According to the Finnish-Russian Chamber of Co...</td>\n",
       "      <td>neutral</td>\n",
       "    </tr>\n",
       "    <tr>\n",
       "      <th>4</th>\n",
       "      <td>The Swedish buyout firm has sold its remaining...</td>\n",
       "      <td>neutral</td>\n",
       "    </tr>\n",
       "  </tbody>\n",
       "</table>\n",
       "</div>\n",
       "      <button class=\"colab-df-convert\" onclick=\"convertToInteractive('df-8b3cbaff-6a11-47d8-b7af-a4ab3fa88268')\"\n",
       "              title=\"Convert this dataframe to an interactive table.\"\n",
       "              style=\"display:none;\">\n",
       "        \n",
       "  <svg xmlns=\"http://www.w3.org/2000/svg\" height=\"24px\"viewBox=\"0 0 24 24\"\n",
       "       width=\"24px\">\n",
       "    <path d=\"M0 0h24v24H0V0z\" fill=\"none\"/>\n",
       "    <path d=\"M18.56 5.44l.94 2.06.94-2.06 2.06-.94-2.06-.94-.94-2.06-.94 2.06-2.06.94zm-11 1L8.5 8.5l.94-2.06 2.06-.94-2.06-.94L8.5 2.5l-.94 2.06-2.06.94zm10 10l.94 2.06.94-2.06 2.06-.94-2.06-.94-.94-2.06-.94 2.06-2.06.94z\"/><path d=\"M17.41 7.96l-1.37-1.37c-.4-.4-.92-.59-1.43-.59-.52 0-1.04.2-1.43.59L10.3 9.45l-7.72 7.72c-.78.78-.78 2.05 0 2.83L4 21.41c.39.39.9.59 1.41.59.51 0 1.02-.2 1.41-.59l7.78-7.78 2.81-2.81c.8-.78.8-2.07 0-2.86zM5.41 20L4 18.59l7.72-7.72 1.47 1.35L5.41 20z\"/>\n",
       "  </svg>\n",
       "      </button>\n",
       "      \n",
       "  <style>\n",
       "    .colab-df-container {\n",
       "      display:flex;\n",
       "      flex-wrap:wrap;\n",
       "      gap: 12px;\n",
       "    }\n",
       "\n",
       "    .colab-df-convert {\n",
       "      background-color: #E8F0FE;\n",
       "      border: none;\n",
       "      border-radius: 50%;\n",
       "      cursor: pointer;\n",
       "      display: none;\n",
       "      fill: #1967D2;\n",
       "      height: 32px;\n",
       "      padding: 0 0 0 0;\n",
       "      width: 32px;\n",
       "    }\n",
       "\n",
       "    .colab-df-convert:hover {\n",
       "      background-color: #E2EBFA;\n",
       "      box-shadow: 0px 1px 2px rgba(60, 64, 67, 0.3), 0px 1px 3px 1px rgba(60, 64, 67, 0.15);\n",
       "      fill: #174EA6;\n",
       "    }\n",
       "\n",
       "    [theme=dark] .colab-df-convert {\n",
       "      background-color: #3B4455;\n",
       "      fill: #D2E3FC;\n",
       "    }\n",
       "\n",
       "    [theme=dark] .colab-df-convert:hover {\n",
       "      background-color: #434B5C;\n",
       "      box-shadow: 0px 1px 3px 1px rgba(0, 0, 0, 0.15);\n",
       "      filter: drop-shadow(0px 1px 2px rgba(0, 0, 0, 0.3));\n",
       "      fill: #FFFFFF;\n",
       "    }\n",
       "  </style>\n",
       "\n",
       "      <script>\n",
       "        const buttonEl =\n",
       "          document.querySelector('#df-8b3cbaff-6a11-47d8-b7af-a4ab3fa88268 button.colab-df-convert');\n",
       "        buttonEl.style.display =\n",
       "          google.colab.kernel.accessAllowed ? 'block' : 'none';\n",
       "\n",
       "        async function convertToInteractive(key) {\n",
       "          const element = document.querySelector('#df-8b3cbaff-6a11-47d8-b7af-a4ab3fa88268');\n",
       "          const dataTable =\n",
       "            await google.colab.kernel.invokeFunction('convertToInteractive',\n",
       "                                                     [key], {});\n",
       "          if (!dataTable) return;\n",
       "\n",
       "          const docLinkHtml = 'Like what you see? Visit the ' +\n",
       "            '<a target=\"_blank\" href=https://colab.research.google.com/notebooks/data_table.ipynb>data table notebook</a>'\n",
       "            + ' to learn more about interactive tables.';\n",
       "          element.innerHTML = '';\n",
       "          dataTable['output_type'] = 'display_data';\n",
       "          await google.colab.output.renderOutput(dataTable, element);\n",
       "          const docLink = document.createElement('div');\n",
       "          docLink.innerHTML = docLinkHtml;\n",
       "          element.appendChild(docLink);\n",
       "        }\n",
       "      </script>\n",
       "    </div>\n",
       "  </div>\n",
       "  "
      ],
      "text/plain": [
       "                                            Sentence Sentiment\n",
       "0  The GeoSolutions technology will leverage Bene...  positive\n",
       "1  $ESI on lows, down $1.50 to $2.50 BK a real po...  negative\n",
       "2  For the last quarter of 2010 , Componenta 's n...  positive\n",
       "3  According to the Finnish-Russian Chamber of Co...   neutral\n",
       "4  The Swedish buyout firm has sold its remaining...   neutral"
      ]
     },
     "execution_count": 3,
     "metadata": {},
     "output_type": "execute_result"
    }
   ],
   "source": [
    "setement=pd.read_csv('data.csv') \n",
    "setement.head()  "
   ]
  },
  {
   "cell_type": "markdown",
   "metadata": {
    "id": "6EJXexgO777O"
   },
   "source": [
    "We transform Sentiment into \"int\"  Data 🇰 "
   ]
  },
  {
   "cell_type": "code",
   "execution_count": null,
   "metadata": {
    "id": "0zrBuzhm8Xkj"
   },
   "outputs": [],
   "source": [
    "for index,raw in setement.iterrows():  \n",
    "    if raw['Sentiment'] == 'positive' : \n",
    "      setement['Sentiment'][index]=1 \n",
    "    if  raw['Sentiment'] == 'negative' : \n",
    "      setement['Sentiment'][index]=-1   \n",
    "    if  raw['Sentiment'] == 'neutral' :  \n",
    "      setement['Sentiment'][index]=0  \n"
   ]
  },
  {
   "cell_type": "code",
   "execution_count": null,
   "metadata": {
    "colab": {
     "base_uri": "https://localhost:8080/",
     "height": 206
    },
    "id": "lcO0_Fv9-psw",
    "outputId": "5e46ce15-9198-45ed-f180-15763509b152"
   },
   "outputs": [
    {
     "data": {
      "text/html": [
       "\n",
       "  <div id=\"df-1b455eca-4616-4245-8fe5-bfe01b590b2a\">\n",
       "    <div class=\"colab-df-container\">\n",
       "      <div>\n",
       "<style scoped>\n",
       "    .dataframe tbody tr th:only-of-type {\n",
       "        vertical-align: middle;\n",
       "    }\n",
       "\n",
       "    .dataframe tbody tr th {\n",
       "        vertical-align: top;\n",
       "    }\n",
       "\n",
       "    .dataframe thead th {\n",
       "        text-align: right;\n",
       "    }\n",
       "</style>\n",
       "<table border=\"1\" class=\"dataframe\">\n",
       "  <thead>\n",
       "    <tr style=\"text-align: right;\">\n",
       "      <th></th>\n",
       "      <th>Sentence</th>\n",
       "      <th>Sentiment</th>\n",
       "    </tr>\n",
       "  </thead>\n",
       "  <tbody>\n",
       "    <tr>\n",
       "      <th>0</th>\n",
       "      <td>The GeoSolutions technology will leverage Bene...</td>\n",
       "      <td>1</td>\n",
       "    </tr>\n",
       "    <tr>\n",
       "      <th>1</th>\n",
       "      <td>$ESI on lows, down $1.50 to $2.50 BK a real po...</td>\n",
       "      <td>-1</td>\n",
       "    </tr>\n",
       "    <tr>\n",
       "      <th>2</th>\n",
       "      <td>For the last quarter of 2010 , Componenta 's n...</td>\n",
       "      <td>1</td>\n",
       "    </tr>\n",
       "    <tr>\n",
       "      <th>3</th>\n",
       "      <td>According to the Finnish-Russian Chamber of Co...</td>\n",
       "      <td>0</td>\n",
       "    </tr>\n",
       "    <tr>\n",
       "      <th>4</th>\n",
       "      <td>The Swedish buyout firm has sold its remaining...</td>\n",
       "      <td>0</td>\n",
       "    </tr>\n",
       "  </tbody>\n",
       "</table>\n",
       "</div>\n",
       "      <button class=\"colab-df-convert\" onclick=\"convertToInteractive('df-1b455eca-4616-4245-8fe5-bfe01b590b2a')\"\n",
       "              title=\"Convert this dataframe to an interactive table.\"\n",
       "              style=\"display:none;\">\n",
       "        \n",
       "  <svg xmlns=\"http://www.w3.org/2000/svg\" height=\"24px\"viewBox=\"0 0 24 24\"\n",
       "       width=\"24px\">\n",
       "    <path d=\"M0 0h24v24H0V0z\" fill=\"none\"/>\n",
       "    <path d=\"M18.56 5.44l.94 2.06.94-2.06 2.06-.94-2.06-.94-.94-2.06-.94 2.06-2.06.94zm-11 1L8.5 8.5l.94-2.06 2.06-.94-2.06-.94L8.5 2.5l-.94 2.06-2.06.94zm10 10l.94 2.06.94-2.06 2.06-.94-2.06-.94-.94-2.06-.94 2.06-2.06.94z\"/><path d=\"M17.41 7.96l-1.37-1.37c-.4-.4-.92-.59-1.43-.59-.52 0-1.04.2-1.43.59L10.3 9.45l-7.72 7.72c-.78.78-.78 2.05 0 2.83L4 21.41c.39.39.9.59 1.41.59.51 0 1.02-.2 1.41-.59l7.78-7.78 2.81-2.81c.8-.78.8-2.07 0-2.86zM5.41 20L4 18.59l7.72-7.72 1.47 1.35L5.41 20z\"/>\n",
       "  </svg>\n",
       "      </button>\n",
       "      \n",
       "  <style>\n",
       "    .colab-df-container {\n",
       "      display:flex;\n",
       "      flex-wrap:wrap;\n",
       "      gap: 12px;\n",
       "    }\n",
       "\n",
       "    .colab-df-convert {\n",
       "      background-color: #E8F0FE;\n",
       "      border: none;\n",
       "      border-radius: 50%;\n",
       "      cursor: pointer;\n",
       "      display: none;\n",
       "      fill: #1967D2;\n",
       "      height: 32px;\n",
       "      padding: 0 0 0 0;\n",
       "      width: 32px;\n",
       "    }\n",
       "\n",
       "    .colab-df-convert:hover {\n",
       "      background-color: #E2EBFA;\n",
       "      box-shadow: 0px 1px 2px rgba(60, 64, 67, 0.3), 0px 1px 3px 1px rgba(60, 64, 67, 0.15);\n",
       "      fill: #174EA6;\n",
       "    }\n",
       "\n",
       "    [theme=dark] .colab-df-convert {\n",
       "      background-color: #3B4455;\n",
       "      fill: #D2E3FC;\n",
       "    }\n",
       "\n",
       "    [theme=dark] .colab-df-convert:hover {\n",
       "      background-color: #434B5C;\n",
       "      box-shadow: 0px 1px 3px 1px rgba(0, 0, 0, 0.15);\n",
       "      filter: drop-shadow(0px 1px 2px rgba(0, 0, 0, 0.3));\n",
       "      fill: #FFFFFF;\n",
       "    }\n",
       "  </style>\n",
       "\n",
       "      <script>\n",
       "        const buttonEl =\n",
       "          document.querySelector('#df-1b455eca-4616-4245-8fe5-bfe01b590b2a button.colab-df-convert');\n",
       "        buttonEl.style.display =\n",
       "          google.colab.kernel.accessAllowed ? 'block' : 'none';\n",
       "\n",
       "        async function convertToInteractive(key) {\n",
       "          const element = document.querySelector('#df-1b455eca-4616-4245-8fe5-bfe01b590b2a');\n",
       "          const dataTable =\n",
       "            await google.colab.kernel.invokeFunction('convertToInteractive',\n",
       "                                                     [key], {});\n",
       "          if (!dataTable) return;\n",
       "\n",
       "          const docLinkHtml = 'Like what you see? Visit the ' +\n",
       "            '<a target=\"_blank\" href=https://colab.research.google.com/notebooks/data_table.ipynb>data table notebook</a>'\n",
       "            + ' to learn more about interactive tables.';\n",
       "          element.innerHTML = '';\n",
       "          dataTable['output_type'] = 'display_data';\n",
       "          await google.colab.output.renderOutput(dataTable, element);\n",
       "          const docLink = document.createElement('div');\n",
       "          docLink.innerHTML = docLinkHtml;\n",
       "          element.appendChild(docLink);\n",
       "        }\n",
       "      </script>\n",
       "    </div>\n",
       "  </div>\n",
       "  "
      ],
      "text/plain": [
       "                                            Sentence Sentiment\n",
       "0  The GeoSolutions technology will leverage Bene...         1\n",
       "1  $ESI on lows, down $1.50 to $2.50 BK a real po...        -1\n",
       "2  For the last quarter of 2010 , Componenta 's n...         1\n",
       "3  According to the Finnish-Russian Chamber of Co...         0\n",
       "4  The Swedish buyout firm has sold its remaining...         0"
      ]
     },
     "execution_count": 5,
     "metadata": {},
     "output_type": "execute_result"
    }
   ],
   "source": [
    "setement.head()"
   ]
  },
  {
   "cell_type": "code",
   "execution_count": null,
   "metadata": {
    "colab": {
     "base_uri": "https://localhost:8080/",
     "height": 53
    },
    "id": "jMv-w4OXFun4",
    "outputId": "2fa458ae-219b-4695-b74a-2569812fd7ac"
   },
   "outputs": [
    {
     "data": {
      "application/vnd.google.colaboratory.intrinsic+json": {
       "type": "string"
      },
      "text/plain": [
       "\"The GeoSolutions technology will leverage Benefon 's GPS solutions by providing Location Based Search Technology , a Communities Platform , location relevant multimedia content and a new and powerful commercial model .\""
      ]
     },
     "execution_count": 6,
     "metadata": {},
     "output_type": "execute_result"
    }
   ],
   "source": [
    "setement['Sentence'][0] "
   ]
  },
  {
   "cell_type": "markdown",
   "metadata": {
    "id": "3RmKY3mE8jjS"
   },
   "source": [
    "**We import tools to clean text **"
   ]
  },
  {
   "cell_type": "code",
   "execution_count": null,
   "metadata": {
    "colab": {
     "base_uri": "https://localhost:8080/"
    },
    "id": "6zWUAiyV-_4Y",
    "outputId": "e7e0432b-639a-463a-d331-4e7dd0f01e92"
   },
   "outputs": [
    {
     "name": "stdout",
     "output_type": "stream",
     "text": [
      "CPU times: user 19.8 ms, sys: 931 µs, total: 20.7 ms\n",
      "Wall time: 29.6 ms\n"
     ]
    },
    {
     "data": {
      "text/plain": [
       "$ESI on lows, down $1.50 to $2.50 BK a real possibility"
      ]
     },
     "execution_count": 7,
     "metadata": {},
     "output_type": "execute_result"
    }
   ],
   "source": [
    "%%time\n",
    "nlp(setement['Sentence'][1])  "
   ]
  },
  {
   "cell_type": "code",
   "execution_count": null,
   "metadata": {
    "colab": {
     "base_uri": "https://localhost:8080/"
    },
    "id": "6_ragdnlA8_a",
    "outputId": "d39b6faf-6273-4b76-c2bb-c245e36b94ef"
   },
   "outputs": [
    {
     "name": "stdout",
     "output_type": "stream",
     "text": [
      "[nltk_data] Downloading package stopwords to /root/nltk_data...\n",
      "[nltk_data]   Unzipping corpora/stopwords.zip.\n"
     ]
    }
   ],
   "source": [
    "import nltk\n",
    "from nltk.corpus import stopwords\n",
    "nltk.download(\"stopwords\") \n",
    "stop_words = set(stopwords.words(\"english\"))"
   ]
  },
  {
   "cell_type": "code",
   "execution_count": null,
   "metadata": {
    "id": "hVrIb0cnBAZM"
   },
   "outputs": [],
   "source": [
    "import re  \n",
    "import string"
   ]
  },
  {
   "cell_type": "markdown",
   "metadata": {
    "id": "tZ724mc28wgX"
   },
   "source": [
    "We clean all sentence in our data frame :"
   ]
  },
  {
   "cell_type": "code",
   "execution_count": null,
   "metadata": {
    "colab": {
     "base_uri": "https://localhost:8080/"
    },
    "id": "AJj3mW1R_X1F",
    "outputId": "356280be-4c91-442a-e61f-a288e22a531f"
   },
   "outputs": [
    {
     "name": "stderr",
     "output_type": "stream",
     "text": [
      " 99%|█████████▉| 5771/5842 [00:01<00:00, 5114.68it/s]"
     ]
    },
    {
     "name": "stdout",
     "output_type": "stream",
     "text": [
      "CPU times: user 1.28 s, sys: 26.3 ms, total: 1.31 s\n",
      "Wall time: 1.33 s\n"
     ]
    }
   ],
   "source": [
    "%%time\n",
    "clean_sen = []\n",
    "\n",
    "\n",
    "pbar = tqdm.tqdm(total=len(setement['Sentence']),position=0, leave=True)\n",
    "\n",
    "for text in nlp.pipe(setement['Sentence'], disable=[\"tagger\", \"parser\", \"ner\"]):\n",
    "\n",
    "  txt = [token.lemma_.lower() for token in text \n",
    "         if token.is_alpha \n",
    "         and not token.is_stop \n",
    "         and not token.is_punct]\n",
    "\n",
    "  clean_sen.append(txt)\n",
    "\n",
    "  pbar.update(1)\n",
    "\n"
   ]
  },
  {
   "cell_type": "markdown",
   "metadata": {
    "id": "Fw0mLXgg9IXE"
   },
   "source": [
    "WE replace sentecnce with a list of words ✅ "
   ]
  },
  {
   "cell_type": "code",
   "execution_count": null,
   "metadata": {
    "id": "HO4GxsFUF6AG"
   },
   "outputs": [],
   "source": [
    "setement['Sentence']=clean_sen "
   ]
  },
  {
   "cell_type": "code",
   "execution_count": null,
   "metadata": {
    "colab": {
     "base_uri": "https://localhost:8080/",
     "height": 206
    },
    "id": "Fm7kioDXE72O",
    "outputId": "c826aa45-cc82-47f1-b782-2aa5ea467ec7"
   },
   "outputs": [
    {
     "data": {
      "text/html": [
       "\n",
       "  <div id=\"df-8386303c-676f-4795-a87f-bc4f8d906cf4\">\n",
       "    <div class=\"colab-df-container\">\n",
       "      <div>\n",
       "<style scoped>\n",
       "    .dataframe tbody tr th:only-of-type {\n",
       "        vertical-align: middle;\n",
       "    }\n",
       "\n",
       "    .dataframe tbody tr th {\n",
       "        vertical-align: top;\n",
       "    }\n",
       "\n",
       "    .dataframe thead th {\n",
       "        text-align: right;\n",
       "    }\n",
       "</style>\n",
       "<table border=\"1\" class=\"dataframe\">\n",
       "  <thead>\n",
       "    <tr style=\"text-align: right;\">\n",
       "      <th></th>\n",
       "      <th>Sentence</th>\n",
       "      <th>Sentiment</th>\n",
       "    </tr>\n",
       "  </thead>\n",
       "  <tbody>\n",
       "    <tr>\n",
       "      <th>0</th>\n",
       "      <td>[geosolutions, technology, leverage, benefon, ...</td>\n",
       "      <td>1</td>\n",
       "    </tr>\n",
       "    <tr>\n",
       "      <th>1</th>\n",
       "      <td>[esi, low, bk, real, possibility]</td>\n",
       "      <td>-1</td>\n",
       "    </tr>\n",
       "    <tr>\n",
       "      <th>2</th>\n",
       "      <td>[quarter, componenta, net, sale, double, be, b...</td>\n",
       "      <td>1</td>\n",
       "    </tr>\n",
       "    <tr>\n",
       "      <th>3</th>\n",
       "      <td>[according, finnish, russian, chamber, commerc...</td>\n",
       "      <td>0</td>\n",
       "    </tr>\n",
       "    <tr>\n",
       "      <th>4</th>\n",
       "      <td>[swedish, buyout, firm, sell, remain, percent,...</td>\n",
       "      <td>0</td>\n",
       "    </tr>\n",
       "  </tbody>\n",
       "</table>\n",
       "</div>\n",
       "      <button class=\"colab-df-convert\" onclick=\"convertToInteractive('df-8386303c-676f-4795-a87f-bc4f8d906cf4')\"\n",
       "              title=\"Convert this dataframe to an interactive table.\"\n",
       "              style=\"display:none;\">\n",
       "        \n",
       "  <svg xmlns=\"http://www.w3.org/2000/svg\" height=\"24px\"viewBox=\"0 0 24 24\"\n",
       "       width=\"24px\">\n",
       "    <path d=\"M0 0h24v24H0V0z\" fill=\"none\"/>\n",
       "    <path d=\"M18.56 5.44l.94 2.06.94-2.06 2.06-.94-2.06-.94-.94-2.06-.94 2.06-2.06.94zm-11 1L8.5 8.5l.94-2.06 2.06-.94-2.06-.94L8.5 2.5l-.94 2.06-2.06.94zm10 10l.94 2.06.94-2.06 2.06-.94-2.06-.94-.94-2.06-.94 2.06-2.06.94z\"/><path d=\"M17.41 7.96l-1.37-1.37c-.4-.4-.92-.59-1.43-.59-.52 0-1.04.2-1.43.59L10.3 9.45l-7.72 7.72c-.78.78-.78 2.05 0 2.83L4 21.41c.39.39.9.59 1.41.59.51 0 1.02-.2 1.41-.59l7.78-7.78 2.81-2.81c.8-.78.8-2.07 0-2.86zM5.41 20L4 18.59l7.72-7.72 1.47 1.35L5.41 20z\"/>\n",
       "  </svg>\n",
       "      </button>\n",
       "      \n",
       "  <style>\n",
       "    .colab-df-container {\n",
       "      display:flex;\n",
       "      flex-wrap:wrap;\n",
       "      gap: 12px;\n",
       "    }\n",
       "\n",
       "    .colab-df-convert {\n",
       "      background-color: #E8F0FE;\n",
       "      border: none;\n",
       "      border-radius: 50%;\n",
       "      cursor: pointer;\n",
       "      display: none;\n",
       "      fill: #1967D2;\n",
       "      height: 32px;\n",
       "      padding: 0 0 0 0;\n",
       "      width: 32px;\n",
       "    }\n",
       "\n",
       "    .colab-df-convert:hover {\n",
       "      background-color: #E2EBFA;\n",
       "      box-shadow: 0px 1px 2px rgba(60, 64, 67, 0.3), 0px 1px 3px 1px rgba(60, 64, 67, 0.15);\n",
       "      fill: #174EA6;\n",
       "    }\n",
       "\n",
       "    [theme=dark] .colab-df-convert {\n",
       "      background-color: #3B4455;\n",
       "      fill: #D2E3FC;\n",
       "    }\n",
       "\n",
       "    [theme=dark] .colab-df-convert:hover {\n",
       "      background-color: #434B5C;\n",
       "      box-shadow: 0px 1px 3px 1px rgba(0, 0, 0, 0.15);\n",
       "      filter: drop-shadow(0px 1px 2px rgba(0, 0, 0, 0.3));\n",
       "      fill: #FFFFFF;\n",
       "    }\n",
       "  </style>\n",
       "\n",
       "      <script>\n",
       "        const buttonEl =\n",
       "          document.querySelector('#df-8386303c-676f-4795-a87f-bc4f8d906cf4 button.colab-df-convert');\n",
       "        buttonEl.style.display =\n",
       "          google.colab.kernel.accessAllowed ? 'block' : 'none';\n",
       "\n",
       "        async function convertToInteractive(key) {\n",
       "          const element = document.querySelector('#df-8386303c-676f-4795-a87f-bc4f8d906cf4');\n",
       "          const dataTable =\n",
       "            await google.colab.kernel.invokeFunction('convertToInteractive',\n",
       "                                                     [key], {});\n",
       "          if (!dataTable) return;\n",
       "\n",
       "          const docLinkHtml = 'Like what you see? Visit the ' +\n",
       "            '<a target=\"_blank\" href=https://colab.research.google.com/notebooks/data_table.ipynb>data table notebook</a>'\n",
       "            + ' to learn more about interactive tables.';\n",
       "          element.innerHTML = '';\n",
       "          dataTable['output_type'] = 'display_data';\n",
       "          await google.colab.output.renderOutput(dataTable, element);\n",
       "          const docLink = document.createElement('div');\n",
       "          docLink.innerHTML = docLinkHtml;\n",
       "          element.appendChild(docLink);\n",
       "        }\n",
       "      </script>\n",
       "    </div>\n",
       "  </div>\n",
       "  "
      ],
      "text/plain": [
       "                                            Sentence Sentiment\n",
       "0  [geosolutions, technology, leverage, benefon, ...         1\n",
       "1                  [esi, low, bk, real, possibility]        -1\n",
       "2  [quarter, componenta, net, sale, double, be, b...         1\n",
       "3  [according, finnish, russian, chamber, commerc...         0\n",
       "4  [swedish, buyout, firm, sell, remain, percent,...         0"
      ]
     },
     "execution_count": 12,
     "metadata": {},
     "output_type": "execute_result"
    }
   ],
   "source": [
    "setement.head()    "
   ]
  },
  {
   "cell_type": "code",
   "execution_count": null,
   "metadata": {
    "colab": {
     "base_uri": "https://localhost:8080/"
    },
    "id": "WMRyWi_lKPVq",
    "outputId": "ef2c9584-f6fd-40ed-ca5c-36d358e09035"
   },
   "outputs": [
    {
     "name": "stdout",
     "output_type": "stream",
     "text": [
      "0 NO NULL great day\n"
     ]
    }
   ],
   "source": [
    "print(setement['Sentence'].isnull().sum() , 'NO NULL great day' ) "
   ]
  },
  {
   "cell_type": "markdown",
   "metadata": {
    "id": "CfM7ML7v-won"
   },
   "source": []
  },
  {
   "cell_type": "markdown",
   "metadata": {
    "id": "EndTdIyR-bvZ"
   },
   "source": [
    "We install the packages which we need to transform the words to vectors as Word2vec: "
   ]
  },
  {
   "cell_type": "code",
   "execution_count": null,
   "metadata": {
    "colab": {
     "base_uri": "https://localhost:8080/"
    },
    "id": "3J9Ed37GbcDD",
    "outputId": "a20ef567-e5b8-4b9d-8c5a-72162ef02900"
   },
   "outputs": [
    {
     "name": "stdout",
     "output_type": "stream",
     "text": [
      "\u001b[K     |████████████████████████████████| 24.1 MB 54.3 MB/s \n",
      "\u001b[?25h"
     ]
    }
   ],
   "source": [
    "!pip install --upgrade gensim -q"
   ]
  },
  {
   "cell_type": "code",
   "execution_count": null,
   "metadata": {
    "id": "CfovUVV0bzMi"
   },
   "outputs": [],
   "source": [
    "import logging \n",
    "from gensim.models import Word2Vec \n",
    "logging.basicConfig(format='%(asctime)s : %(levelname)s : %(message)s', level=logging.INFO) "
   ]
  },
  {
   "cell_type": "markdown",
   "metadata": {
    "id": "UYlUJ8hZ-1FI"
   },
   "source": [
    "WE transform each word to vector of 200 element and we count word which are more then 10  ⚔"
   ]
  },
  {
   "cell_type": "code",
   "execution_count": null,
   "metadata": {
    "colab": {
     "base_uri": "https://localhost:8080/"
    },
    "id": "jZ1NLWOKcELn",
    "outputId": "432ba689-0944-413f-d417-272706e8c55f"
   },
   "outputs": [
    {
     "name": "stderr",
     "output_type": "stream",
     "text": [
      "2022-03-13 20:30:14,056 : INFO : collecting all words and their counts\n",
      "2022-03-13 20:30:14,060 : INFO : PROGRESS: at sentence #0, processed 0 words, keeping 0 word types\n",
      "2022-03-13 20:30:14,085 : INFO : collected 8176 word types from a corpus of 62135 raw words and 5842 sentences\n",
      "2022-03-13 20:30:14,087 : INFO : Creating a fresh vocabulary\n",
      "2022-03-13 20:30:14,101 : INFO : Word2Vec lifecycle event {'msg': 'effective_min_count=10 retains 1108 unique words (13.551859099804306%% of original 8176, drops 7068)', 'datetime': '2022-03-13T20:30:14.101571', 'gensim': '4.1.2', 'python': '3.7.12 (default, Jan 15 2022, 18:48:18) \\n[GCC 7.5.0]', 'platform': 'Linux-5.4.144+-x86_64-with-Ubuntu-18.04-bionic', 'event': 'prepare_vocab'}\n",
      "2022-03-13 20:30:14,104 : INFO : Word2Vec lifecycle event {'msg': 'effective_min_count=10 leaves 46932 word corpus (75.53230868270701%% of original 62135, drops 15203)', 'datetime': '2022-03-13T20:30:14.104061', 'gensim': '4.1.2', 'python': '3.7.12 (default, Jan 15 2022, 18:48:18) \\n[GCC 7.5.0]', 'platform': 'Linux-5.4.144+-x86_64-with-Ubuntu-18.04-bionic', 'event': 'prepare_vocab'}\n",
      "2022-03-13 20:30:14,114 : INFO : deleting the raw counts dictionary of 8176 items\n",
      "2022-03-13 20:30:14,117 : INFO : sample=0.001 downsamples 62 most-common words\n",
      "2022-03-13 20:30:14,121 : INFO : Word2Vec lifecycle event {'msg': 'downsampling leaves estimated 39333.126082498784 word corpus (83.8%% of prior 46932)', 'datetime': '2022-03-13T20:30:14.121734', 'gensim': '4.1.2', 'python': '3.7.12 (default, Jan 15 2022, 18:48:18) \\n[GCC 7.5.0]', 'platform': 'Linux-5.4.144+-x86_64-with-Ubuntu-18.04-bionic', 'event': 'prepare_vocab'}\n",
      "2022-03-13 20:30:14,144 : INFO : estimated required memory for 1108 words and 200 dimensions: 2326800 bytes\n",
      "2022-03-13 20:30:14,146 : INFO : resetting layer weights\n",
      "2022-03-13 20:30:14,153 : INFO : Word2Vec lifecycle event {'update': False, 'trim_rule': 'None', 'datetime': '2022-03-13T20:30:14.153479', 'gensim': '4.1.2', 'python': '3.7.12 (default, Jan 15 2022, 18:48:18) \\n[GCC 7.5.0]', 'platform': 'Linux-5.4.144+-x86_64-with-Ubuntu-18.04-bionic', 'event': 'build_vocab'}\n",
      "2022-03-13 20:30:14,156 : INFO : Word2Vec lifecycle event {'msg': 'training model with 2 workers on 1108 vocabulary and 200 features, using sg=0 hs=0 sample=0.001 negative=5 window=5 shrink_windows=True', 'datetime': '2022-03-13T20:30:14.156062', 'gensim': '4.1.2', 'python': '3.7.12 (default, Jan 15 2022, 18:48:18) \\n[GCC 7.5.0]', 'platform': 'Linux-5.4.144+-x86_64-with-Ubuntu-18.04-bionic', 'event': 'train'}\n",
      "2022-03-13 20:30:14,232 : INFO : worker thread finished; awaiting finish of 1 more threads\n",
      "2022-03-13 20:30:14,233 : INFO : worker thread finished; awaiting finish of 0 more threads\n",
      "2022-03-13 20:30:14,242 : INFO : EPOCH - 1 : training on 62135 raw words (39281 effective words) took 0.1s, 537866 effective words/s\n",
      "2022-03-13 20:30:14,315 : INFO : worker thread finished; awaiting finish of 1 more threads\n",
      "2022-03-13 20:30:14,321 : INFO : worker thread finished; awaiting finish of 0 more threads\n",
      "2022-03-13 20:30:14,324 : INFO : EPOCH - 2 : training on 62135 raw words (39335 effective words) took 0.1s, 548904 effective words/s\n",
      "2022-03-13 20:30:14,399 : INFO : worker thread finished; awaiting finish of 1 more threads\n",
      "2022-03-13 20:30:14,401 : INFO : worker thread finished; awaiting finish of 0 more threads\n",
      "2022-03-13 20:30:14,406 : INFO : EPOCH - 3 : training on 62135 raw words (39257 effective words) took 0.1s, 551728 effective words/s\n",
      "2022-03-13 20:30:14,489 : INFO : worker thread finished; awaiting finish of 1 more threads\n",
      "2022-03-13 20:30:14,493 : INFO : worker thread finished; awaiting finish of 0 more threads\n",
      "2022-03-13 20:30:14,494 : INFO : EPOCH - 4 : training on 62135 raw words (39300 effective words) took 0.1s, 506079 effective words/s\n",
      "2022-03-13 20:30:14,572 : INFO : worker thread finished; awaiting finish of 1 more threads\n",
      "2022-03-13 20:30:14,578 : INFO : worker thread finished; awaiting finish of 0 more threads\n",
      "2022-03-13 20:30:14,580 : INFO : EPOCH - 5 : training on 62135 raw words (39380 effective words) took 0.1s, 561959 effective words/s\n",
      "2022-03-13 20:30:14,655 : INFO : worker thread finished; awaiting finish of 1 more threads\n",
      "2022-03-13 20:30:14,658 : INFO : worker thread finished; awaiting finish of 0 more threads\n",
      "2022-03-13 20:30:14,659 : INFO : EPOCH - 6 : training on 62135 raw words (39346 effective words) took 0.1s, 578077 effective words/s\n",
      "2022-03-13 20:30:14,736 : INFO : worker thread finished; awaiting finish of 1 more threads\n",
      "2022-03-13 20:30:14,741 : INFO : worker thread finished; awaiting finish of 0 more threads\n",
      "2022-03-13 20:30:14,742 : INFO : EPOCH - 7 : training on 62135 raw words (39422 effective words) took 0.1s, 567588 effective words/s\n",
      "2022-03-13 20:30:14,824 : INFO : worker thread finished; awaiting finish of 1 more threads\n",
      "2022-03-13 20:30:14,827 : INFO : worker thread finished; awaiting finish of 0 more threads\n",
      "2022-03-13 20:30:14,829 : INFO : EPOCH - 8 : training on 62135 raw words (39358 effective words) took 0.1s, 549884 effective words/s\n",
      "2022-03-13 20:30:14,914 : INFO : worker thread finished; awaiting finish of 1 more threads\n",
      "2022-03-13 20:30:14,920 : INFO : worker thread finished; awaiting finish of 0 more threads\n",
      "2022-03-13 20:30:14,923 : INFO : EPOCH - 9 : training on 62135 raw words (39384 effective words) took 0.1s, 483433 effective words/s\n",
      "2022-03-13 20:30:14,998 : INFO : worker thread finished; awaiting finish of 1 more threads\n",
      "2022-03-13 20:30:15,001 : INFO : worker thread finished; awaiting finish of 0 more threads\n",
      "2022-03-13 20:30:15,002 : INFO : EPOCH - 10 : training on 62135 raw words (39354 effective words) took 0.1s, 569837 effective words/s\n",
      "2022-03-13 20:30:15,004 : INFO : Word2Vec lifecycle event {'msg': 'training on 621350 raw words (393417 effective words) took 0.8s, 465480 effective words/s', 'datetime': '2022-03-13T20:30:15.004254', 'gensim': '4.1.2', 'python': '3.7.12 (default, Jan 15 2022, 18:48:18) \\n[GCC 7.5.0]', 'platform': 'Linux-5.4.144+-x86_64-with-Ubuntu-18.04-bionic', 'event': 'train'}\n",
      "2022-03-13 20:30:15,006 : INFO : Word2Vec lifecycle event {'params': 'Word2Vec(vocab=1108, vector_size=200, alpha=0.025)', 'datetime': '2022-03-13T20:30:15.005879', 'gensim': '4.1.2', 'python': '3.7.12 (default, Jan 15 2022, 18:48:18) \\n[GCC 7.5.0]', 'platform': 'Linux-5.4.144+-x86_64-with-Ubuntu-18.04-bionic', 'event': 'created'}\n"
     ]
    }
   ],
   "source": [
    "w2v_model = Word2Vec(sentences=setement['Sentence'], vector_size=200, window=5, min_count=10, workers=2, epochs=10) "
   ]
  },
  {
   "cell_type": "code",
   "execution_count": null,
   "metadata": {
    "colab": {
     "base_uri": "https://localhost:8080/"
    },
    "id": "QvEnHKPPcbad",
    "outputId": "ac3770ef-b69d-47d0-b77e-bfddf0f4f4f7"
   },
   "outputs": [
    {
     "data": {
      "text/plain": [
       "[('partnership', 0.9983425140380859),\n",
       " ('way', 0.9983341693878174),\n",
       " ('know', 0.9982154369354248),\n",
       " ('recycle', 0.9979555010795593),\n",
       " ('germany', 0.9977225065231323),\n",
       " ('responsible', 0.997700572013855),\n",
       " ('buyout', 0.99757319688797),\n",
       " ('advance', 0.9974996447563171),\n",
       " ('upgrade', 0.9974631667137146),\n",
       " ('competition', 0.997349739074707)]"
      ]
     },
     "execution_count": 17,
     "metadata": {},
     "output_type": "execute_result"
    }
   ],
   "source": [
    "w2v_model.wv.similar_by_word('finance') #similarty to finance "
   ]
  },
  {
   "cell_type": "code",
   "execution_count": null,
   "metadata": {
    "colab": {
     "base_uri": "https://localhost:8080/"
    },
    "id": "OE9zjbdLdOOn",
    "outputId": "583db4b0-e2cd-4156-870d-a22741c5035f"
   },
   "outputs": [
    {
     "data": {
      "text/plain": [
       "[('near', 0.9981837272644043),\n",
       " ('like', 0.9975825548171997),\n",
       " ('look', 0.9969451427459717),\n",
       " ('signal', 0.9968292117118835),\n",
       " ('actual', 0.996150016784668),\n",
       " ('clear', 0.9958698749542236),\n",
       " ('think', 0.9958350658416748),\n",
       " ('get', 0.995799720287323),\n",
       " ('setup', 0.995729923248291),\n",
       " ('car', 0.9954541921615601)]"
      ]
     },
     "execution_count": 18,
     "metadata": {},
     "output_type": "execute_result"
    }
   ],
   "source": [
    "w2v_model.wv.similar_by_word('good') #similartiy to good  "
   ]
  },
  {
   "cell_type": "code",
   "execution_count": null,
   "metadata": {
    "colab": {
     "base_uri": "https://localhost:8080/"
    },
    "id": "HNiGJKJudTp0",
    "outputId": "43b7ba46-26e8-4e59-e15c-cf654d8727c1"
   },
   "outputs": [
    {
     "data": {
      "text/plain": [
       "[('pct', 0.9471407532691956),\n",
       " ('turnover', 0.9287186861038208),\n",
       " ('bln', 0.9285021424293518),\n",
       " ('october', 0.9227984547615051),\n",
       " ('end', 0.9222664833068848),\n",
       " ('percent', 0.9185442924499512),\n",
       " ('see', 0.9164886474609375),\n",
       " ('warn', 0.9158691763877869),\n",
       " ('fiscal', 0.9089294075965881),\n",
       " ('trade', 0.9077963829040527)]"
      ]
     },
     "execution_count": 19,
     "metadata": {},
     "output_type": "execute_result"
    }
   ],
   "source": [
    "w2v_model.wv.similar_by_word('low') #similartiy to good  "
   ]
  },
  {
   "cell_type": "markdown",
   "metadata": {
    "id": "WCuVKWML_cX1"
   },
   "source": [
    " WE take avrege of each vector of word to make one vectors of each sentence in our Data frame : with this function that i found it in teacher code  ☝"
   ]
  },
  {
   "cell_type": "code",
   "execution_count": null,
   "metadata": {
    "id": "kKtruQNIddJF"
   },
   "outputs": [],
   "source": [
    "def get_mean_vector(w2v_model, words):\n",
    "    # remove out-of-vocabulary words\n",
    "    words = [word for word in words if word in w2v_model.wv.key_to_index]\n",
    "    if len(words) >= 1:\n",
    "        return np.mean(w2v_model.wv[words], axis=0) \n",
    "    else:\n",
    "        return [] "
   ]
  },
  {
   "cell_type": "code",
   "execution_count": null,
   "metadata": {
    "colab": {
     "base_uri": "https://localhost:8080/"
    },
    "id": "JObB7GfFfm8k",
    "outputId": "ad3c92b3-c951-4e06-e51b-36a83be58dd7"
   },
   "outputs": [
    {
     "name": "stderr",
     "output_type": "stream",
     "text": [
      "2022-03-13 20:30:15,104 : INFO : Word2Vec lifecycle event {'fname_or_handle': 'w2v_model', 'separately': 'None', 'sep_limit': 10485760, 'ignore': frozenset(), 'datetime': '2022-03-13T20:30:15.098881', 'gensim': '4.1.2', 'python': '3.7.12 (default, Jan 15 2022, 18:48:18) \\n[GCC 7.5.0]', 'platform': 'Linux-5.4.144+-x86_64-with-Ubuntu-18.04-bionic', 'event': 'saving'}\n",
      "2022-03-13 20:30:15,110 : INFO : not storing attribute cum_table\n",
      "2022-03-13 20:30:15,147 : INFO : saved w2v_model\n"
     ]
    }
   ],
   "source": [
    "w2v_model.save('w2v_model') "
   ]
  },
  {
   "cell_type": "code",
   "execution_count": null,
   "metadata": {
    "id": "eECDg2Mpf0w_"
   },
   "outputs": [],
   "source": [
    "avg_vecs =setement['Sentence'].map(lambda t: get_mean_vector(w2v_model, t))   "
   ]
  },
  {
   "cell_type": "code",
   "execution_count": null,
   "metadata": {
    "colab": {
     "base_uri": "https://localhost:8080/"
    },
    "id": "vkfgujIlg-Qf",
    "outputId": "3093931e-94b9-453d-ef01-bdbfa9f5a77c"
   },
   "outputs": [
    {
     "data": {
      "text/plain": [
       "0       [-0.023638105, -0.2225693, 0.05494887, -0.0885...\n",
       "1       [-0.049470887, -0.18776272, -0.13305257, 0.161...\n",
       "2       [0.11238689, 0.04761131, -0.22016947, 0.495715...\n",
       "3       [-0.010964988, -0.17172924, 0.012902707, 0.039...\n",
       "4       [0.012547172, -0.10590384, -0.07147517, 0.1087...\n",
       "                              ...                        \n",
       "5837    [0.0020562652, -0.12607355, -0.009878085, -0.0...\n",
       "5838    [-0.0032976754, -0.12049678, -0.025588552, 0.0...\n",
       "5839    [0.0036183472, -0.10471592, -0.022085711, 0.03...\n",
       "5840    [0.07394402, 0.033335775, -0.16605195, 0.35318...\n",
       "5841    [-0.036986586, -0.21293043, -0.016931655, 0.09...\n",
       "Name: Sentence, Length: 5842, dtype: object"
      ]
     },
     "execution_count": 23,
     "metadata": {},
     "output_type": "execute_result"
    }
   ],
   "source": [
    "avg_vecs"
   ]
  },
  {
   "cell_type": "code",
   "execution_count": null,
   "metadata": {
    "colab": {
     "base_uri": "https://localhost:8080/"
    },
    "id": "FIed5K9pjV0H",
    "outputId": "e093555e-5a49-40f7-deb8-2cedc6496577"
   },
   "outputs": [
    {
     "data": {
      "text/plain": [
       "5842"
      ]
     },
     "execution_count": 24,
     "metadata": {},
     "output_type": "execute_result"
    }
   ],
   "source": [
    "len(avg_vecs)"
   ]
  },
  {
   "cell_type": "markdown",
   "metadata": {
    "id": "kuwYZj9pAFOL"
   },
   "source": [
    "Aaaaaah there is problem some vectors are null  \n",
    "so we delete them esay ❎ "
   ]
  },
  {
   "cell_type": "code",
   "execution_count": null,
   "metadata": {
    "colab": {
     "base_uri": "https://localhost:8080/"
    },
    "id": "OpJ5XVfdkY-k",
    "outputId": "3476e37d-8fa5-4e23-ad0a-c29307f52cd8"
   },
   "outputs": [
    {
     "data": {
      "text/plain": [
       "True"
      ]
     },
     "execution_count": 25,
     "metadata": {},
     "output_type": "execute_result"
    }
   ],
   "source": [
    "len(avg_vecs[29])==0  "
   ]
  },
  {
   "cell_type": "code",
   "execution_count": null,
   "metadata": {
    "id": "nKQSvb0_i9cg"
   },
   "outputs": [],
   "source": [
    "to_del=[]\n",
    "for i in range(0,5841) : \n",
    "   if  len(avg_vecs[i])==0 :  \n",
    "       to_del.append(i) \n",
    "\n",
    "      "
   ]
  },
  {
   "cell_type": "code",
   "execution_count": null,
   "metadata": {
    "colab": {
     "base_uri": "https://localhost:8080/"
    },
    "id": "1Z4PnUtmkgFV",
    "outputId": "2dda297f-eadf-44db-d5a3-a30d60662e79",
    "scrolled": true
   },
   "outputs": [
    {
     "data": {
      "text/plain": [
       "[29,\n",
       " 175,\n",
       " 292,\n",
       " 318,\n",
       " 497,\n",
       " 921,\n",
       " 1081,\n",
       " 1190,\n",
       " 1191,\n",
       " 1487,\n",
       " 1637,\n",
       " 1794,\n",
       " 1991,\n",
       " 2102,\n",
       " 2115,\n",
       " 2145,\n",
       " 2474,\n",
       " 2912,\n",
       " 2987,\n",
       " 3373,\n",
       " 3630,\n",
       " 3954,\n",
       " 4005,\n",
       " 4374,\n",
       " 4720,\n",
       " 4875,\n",
       " 4955,\n",
       " 5123,\n",
       " 5345,\n",
       " 5521,\n",
       " 5545,\n",
       " 5693,\n",
       " 5746,\n",
       " 5811]"
      ]
     },
     "execution_count": 27,
     "metadata": {},
     "output_type": "execute_result"
    }
   ],
   "source": [
    "to_del"
   ]
  },
  {
   "cell_type": "code",
   "execution_count": null,
   "metadata": {
    "id": "2eFr3LGzkmxR"
   },
   "outputs": [],
   "source": [
    "for i in to_del : \n",
    "  del avg_vecs[i]  "
   ]
  },
  {
   "cell_type": "markdown",
   "metadata": {
    "id": "UvGoO2UCAZUn"
   },
   "source": [
    "We trosform our vector to a matrix : "
   ]
  },
  {
   "cell_type": "code",
   "execution_count": null,
   "metadata": {
    "id": "RyPPtI58kv8E"
   },
   "outputs": [],
   "source": [
    "avg_vecs = np.vstack(avg_vecs)  "
   ]
  },
  {
   "cell_type": "code",
   "execution_count": null,
   "metadata": {
    "colab": {
     "base_uri": "https://localhost:8080/"
    },
    "id": "ywYcgWG8k4lN",
    "outputId": "cec6535d-60bf-409e-8b94-5923bccb2c5a"
   },
   "outputs": [
    {
     "data": {
      "text/plain": [
       "(5808, 200)"
      ]
     },
     "execution_count": 30,
     "metadata": {},
     "output_type": "execute_result"
    }
   ],
   "source": [
    "avg_vecs.shape  "
   ]
  },
  {
   "cell_type": "code",
   "execution_count": null,
   "metadata": {
    "id": "pPs6V07gm8dU"
   },
   "outputs": [],
   "source": [
    "from sklearn.metrics.pairwise import cosine_similarity"
   ]
  },
  {
   "cell_type": "markdown",
   "metadata": {
    "id": "LREFLafGAh06"
   },
   "source": [
    "We virefey similarty with Row FIVE 🐾 "
   ]
  },
  {
   "cell_type": "code",
   "execution_count": null,
   "metadata": {
    "id": "3d8zZfsdk_yZ"
   },
   "outputs": [],
   "source": [
    "sims = cosine_similarity(avg_vecs[4].reshape(1,200), avg_vecs)   "
   ]
  },
  {
   "cell_type": "code",
   "execution_count": null,
   "metadata": {
    "id": "mhuj6RJvnA1i"
   },
   "outputs": [],
   "source": [
    "# extract indices\n",
    "ix = np.flip(np.argsort(sims)).tolist()[0][:10]  "
   ]
  },
  {
   "cell_type": "code",
   "execution_count": null,
   "metadata": {
    "colab": {
     "base_uri": "https://localhost:8080/"
    },
    "id": "m90EDm_WnJX4",
    "outputId": "d780ea8d-6ae5-4567-a902-854f4c3d7dbd",
    "scrolled": true
   },
   "outputs": [
    {
     "data": {
      "text/plain": [
       "4       [swedish, buyout, firm, sell, remain, percent,...\n",
       "126     [tyc, break, new, high, lot, technicals, look,...\n",
       "2509         [crh, concrete, bid, holcim, lafarge, asset]\n",
       "5505    [incap, contract, manufacturing, carry, manufa...\n",
       "4237    [financial, report, publish, friday, seb, say,...\n",
       "5685    [time, finnair, award, agreement, uk, government]\n",
       "3011               [upset, machinery, work, take, poland]\n",
       "3660    [renesas, mobile, europe, ltd, approximately, ...\n",
       "1427                 [result, taxis, loss, million, euro]\n",
       "570       [operating, profit, decrease, eur, mn, eur, mn]\n",
       "Name: Sentence, dtype: object"
      ]
     },
     "execution_count": 34,
     "metadata": {},
     "output_type": "execute_result"
    }
   ],
   "source": [
    "setement['Sentence'][ix]  "
   ]
  },
  {
   "cell_type": "markdown",
   "metadata": {
    "id": "IBNpKaU6AuPO"
   },
   "source": [
    "## Some query :"
   ]
  },
  {
   "cell_type": "code",
   "execution_count": null,
   "metadata": {
    "id": "hcT2xQBVnwPN"
   },
   "outputs": [],
   "source": [
    "query = 'good year'\n",
    "\n",
    "query = nlp(query, disable=[\"tagger\", \"parser\", \"ner\"])\n",
    "query = [token.lemma_.lower() for token in query \n",
    "         if token.is_alpha \n",
    "         and not token.is_stop \n",
    "         and not token.is_punct]\n",
    "\n",
    "query = get_mean_vector(w2v_model,query)"
   ]
  },
  {
   "cell_type": "code",
   "execution_count": null,
   "metadata": {
    "colab": {
     "base_uri": "https://localhost:8080/"
    },
    "id": "V2Qyb805n0p3",
    "outputId": "fb6ed074-dd7a-4591-fdf9-87de9b882165"
   },
   "outputs": [
    {
     "data": {
      "text/plain": [
       "2410    [competition, authority, approve, deal, finalize]\n",
       "1469    [skf, april, alandsbanken, give, buy, recommen...\n",
       "2995    [delhaize, le, lion, select, aldata, vocal, pd...\n",
       "4024    [company, see, net, profit, quarter, be, be, c...\n",
       "1132                         [public, service, available]\n",
       "4060    [previously, order, set, start, produce, elect...\n",
       "1342                  [company, say, measure, long, need]\n",
       "4884    [nokia, music, store, begin, trade, tuesday, s...\n",
       "1648    [aldata, say, numb, operational, aspect, defin...\n",
       "16      [msft, sql, server, revenue, grow, double, dig...\n",
       "Name: Sentence, dtype: object"
      ]
     },
     "execution_count": 36,
     "metadata": {},
     "output_type": "execute_result"
    }
   ],
   "source": [
    "sims = cosine_similarity(query.reshape(1,200), avg_vecs) \n",
    "ix = np.flip(np.argsort(sims)).tolist()[0][:10]\n",
    "setement['Sentence'][ix]  "
   ]
  }
 ],
 "metadata": {
  "colab": {
   "collapsed_sections": [],
   "name": "NLP.ipynb",
   "provenance": []
  },
  "kernelspec": {
   "display_name": "Python 3 (ipykernel)",
   "language": "python",
   "name": "python3"
  },
  "language_info": {
   "codemirror_mode": {
    "name": "ipython",
    "version": 3
   },
   "file_extension": ".py",
   "mimetype": "text/x-python",
   "name": "python",
   "nbconvert_exporter": "python",
   "pygments_lexer": "ipython3",
   "version": "3.9.12"
  }
 },
 "nbformat": 4,
 "nbformat_minor": 4
}
